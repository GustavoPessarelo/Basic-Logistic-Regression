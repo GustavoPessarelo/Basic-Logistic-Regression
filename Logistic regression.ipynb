{
 "cells": [
  {
   "cell_type": "code",
   "execution_count": null,
   "metadata": {},
   "outputs": [],
   "source": [
    "# Importing numpy library\n",
    "import numpy as np"
   ]
  },
  {
   "cell_type": "code",
   "execution_count": null,
   "metadata": {},
   "outputs": [],
   "source": [
    "# Creating class for logistic regression\n",
    "class Logistic_Regression():\n",
    "\n",
    "    def __init__(self, learn_rate, iter_number):\n",
    "\n",
    "        # Declaring iterations and learning rate\n",
    "\n",
    "        self.learn_rate = learn_rate\n",
    "        self.iter_number = iter_number\n",
    "\n",
    "    # Fit function\n",
    "    def fit(self, X, Y):\n",
    "\n",
    "        # m = Number of points in dataset -> rows\n",
    "        # n = Number of features in dataset -> columns\n",
    "\n",
    "        self.m, self.n = X.shape\n",
    "\n",
    "        # Weight and bias\n",
    "\n",
    "        self.w = np.zeros(self.n) # Create a vector of n-dimension full of 0 -> [0., 0., 0., ... ,0.]\n",
    "        self.b = 0                # Bias = 0\n",
    "        self.X = X\n",
    "        self.Y = Y\n",
    "\n",
    "        # Gradient Descent function -> Optimization by iterations number\n",
    "\n",
    "        for i in range(self.iter_number):\n",
    "            self.update_weights()\n",
    "    \n",
    "    # Update wights function\n",
    "    def update_weights(self):\n",
    "\n",
    "        # Sigmoid Function\n",
    "\n",
    "        Y_hat = 1/(1+np.exp(-(self.X.dot(self.w) + self.b))) # w*X + b = z\n",
    "\n",
    "        # Derivatives\n",
    "\n",
    "        dw = (1/self.m)*np.dot(self.X.T, (Y_hat - self.Y)) # First derivative\n",
    "        db = (1/self.m)*np.sum(Y_hat - self.Y) # Second derivative\n",
    "\n",
    "        # Updating weights\n",
    "\n",
    "        self.w = self.w = self.learn_rate * dw\n",
    "        self.b = self.b - self.learn_rate * db\n",
    "\n",
    "        np.dot()\n",
    "\n",
    "    # Predict function\n",
    "    def predict(self, X):\n",
    "\n",
    "        Y_pred = 1/(1+np.exp(-(X.dot(self.w) + self.b)))\n",
    "        Y_pred = np.where(Y_pred > 0.5, 1, 0)\n",
    "        return Y_pred"
   ]
  },
  {
   "cell_type": "code",
   "execution_count": null,
   "metadata": {},
   "outputs": [],
   "source": [
    "import pandas as pd\n",
    "from sklearn.model_selection import train_test_split\n",
    "from sklearn.metrics import accuracy_score\n",
    "from sklearn.preprocessing import StandardScaler\n",
    "\n",
    "df = pd.read_csv('dataset.csv')"
   ]
  },
  {
   "cell_type": "code",
   "execution_count": null,
   "metadata": {},
   "outputs": [],
   "source": [
    "# Features and target\n",
    "X = df.drop('target', axis = 'columns')\n",
    "y = df['target']"
   ]
  },
  {
   "cell_type": "code",
   "execution_count": null,
   "metadata": {},
   "outputs": [],
   "source": [
    "# Standarizing data\n",
    "scaler = StandardScaler()\n",
    "scaler.fit(X)\n",
    "standard_data = scaler.transform(X)\n",
    "X = standard_data"
   ]
  },
  {
   "cell_type": "code",
   "execution_count": null,
   "metadata": {},
   "outputs": [],
   "source": [
    "# Train-test split -> 80% train and 20% test\n",
    "X_train, X_test, y_train, y_test = train_test_split(X,y, test_size=0.2, random_state=2)"
   ]
  },
  {
   "cell_type": "code",
   "execution_count": null,
   "metadata": {},
   "outputs": [],
   "source": [
    "# Training the model\n",
    "\n",
    "clf = Logistic_Regression(learn_rate=0.01, iter_number=1000)\n",
    "clf.fit(X_train, y_train)"
   ]
  },
  {
   "cell_type": "code",
   "execution_count": null,
   "metadata": {},
   "outputs": [],
   "source": [
    "# Accuracy for train set\n",
    "X_train_pred = clf.predict(X_train)\n",
    "train_accuracy = accuracy_score(y_train, X_train_pred)\n",
    "print(train_accuracy)\n",
    "\n",
    "# Accuracy for test set\n",
    "X_test_pred = clf.predict(X_test)\n",
    "train_accuracy = accuracy_score(y_test, X_test_pred)\n",
    "print(train_accuracy)"
   ]
  }
 ],
 "metadata": {
  "kernelspec": {
   "display_name": "base",
   "language": "python",
   "name": "python3"
  },
  "language_info": {
   "codemirror_mode": {
    "name": "ipython",
    "version": 3
   },
   "file_extension": ".py",
   "mimetype": "text/x-python",
   "name": "python",
   "nbconvert_exporter": "python",
   "pygments_lexer": "ipython3",
   "version": "3.11.4"
  }
 },
 "nbformat": 4,
 "nbformat_minor": 2
}
